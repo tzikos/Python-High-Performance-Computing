{
 "cells": [
  {
   "cell_type": "code",
   "execution_count": 1,
   "metadata": {},
   "outputs": [],
   "source": [
    "import sys"
   ]
  },
  {
   "cell_type": "code",
   "execution_count": 2,
   "metadata": {},
   "outputs": [
    {
     "data": {
      "text/plain": [
       "['/opt/anaconda3/lib/python3.12/site-packages/ipykernel_launcher.py',\n",
       " '--f=/Users/tzikos/Library/Jupyter/runtime/kernel-v378e10b1a5e929d4e9b3e163a3eaf5a77817adf2c.json']"
      ]
     },
     "execution_count": 2,
     "metadata": {},
     "output_type": "execute_result"
    }
   ],
   "source": [
    "sys.argv"
   ]
  },
  {
   "cell_type": "code",
   "execution_count": null,
   "metadata": {},
   "outputs": [],
   "source": [
    "def main(*args):    \n",
    "    arg_list = list(sys.argv[1:])\n",
    "\n",
    "    n = len(arg_list)\n",
    "    \n",
    "    summ = 0\n",
    "    for i in range(n+1):\n",
    "        summ += int(arg_list[i])\n",
    "\n",
    "    avg = float(summ / n)\n",
    "\n",
    "    if avg >= 5:\n",
    "        return print(f\"{avg} Pass\")\n",
    "    else:\n",
    "        return print(f\"{avg} Fail\")\n",
    "    \n",
    "if __name__ == \"__main__\":\n",
    "    main()"
   ]
  },
  {
   "cell_type": "code",
   "execution_count": 1,
   "metadata": {},
   "outputs": [],
   "source": [
    "import numpy as np\n",
    "import sys\n",
    "\n",
    "def np_mat_to_avgs(*args):\n",
    "    \n",
    "    path = sys.argv[1]\n",
    "    mat = np.load(path)\n",
    "    avg_rows = np.average(mat, axis = 0)\n",
    "    avg_cols = np.average(mat, axis = 1)\n",
    "\n",
    "    np.save('cols.npy', avg_cols)\n",
    "    np.save('rows.npy', avg_rows.T)\n",
    "    \n",
    "    return None"
   ]
  },
  {
   "cell_type": "code",
   "execution_count": 13,
   "metadata": {},
   "outputs": [],
   "source": [
    "np.save('input.npy',np.array([[1, 2, 3], [4, 5, 6], [7, 8, 9]]))"
   ]
  },
  {
   "cell_type": "code",
   "execution_count": 13,
   "metadata": {},
   "outputs": [
    {
     "data": {
      "text/plain": [
       "array([4., 5., 6.])"
      ]
     },
     "execution_count": 13,
     "metadata": {},
     "output_type": "execute_result"
    }
   ],
   "source": [
    "np.mean(np.array([[1, 2, 3], [4, 5, 6], [7, 8, 9]]),axis=0)"
   ]
  },
  {
   "cell_type": "code",
   "execution_count": 7,
   "metadata": {},
   "outputs": [
    {
     "data": {
      "text/plain": [
       "array([[1, 2, 3],\n",
       "       [4, 5, 6],\n",
       "       [7, 8, 9]])"
      ]
     },
     "execution_count": 7,
     "metadata": {},
     "output_type": "execute_result"
    }
   ],
   "source": [
    "np.array([[1, 2, 3], [4, 5, 6], [7, 8, 9]])"
   ]
  },
  {
   "cell_type": "code",
   "execution_count": 18,
   "metadata": {},
   "outputs": [],
   "source": [
    "cols = np.load('cols.npy')\n",
    "rows = np.load('rows.npy')"
   ]
  },
  {
   "cell_type": "code",
   "execution_count": 28,
   "metadata": {},
   "outputs": [
    {
     "data": {
      "text/plain": [
       "np.True_"
      ]
     },
     "execution_count": 28,
     "metadata": {},
     "output_type": "execute_result"
    }
   ],
   "source": [
    "(rows == np.array([4., 5., 6.])).all()"
   ]
  }
 ],
 "metadata": {
  "kernelspec": {
   "display_name": "pyhpc",
   "language": "python",
   "name": "python3"
  },
  "language_info": {
   "codemirror_mode": {
    "name": "ipython",
    "version": 3
   },
   "file_extension": ".py",
   "mimetype": "text/x-python",
   "name": "python",
   "nbconvert_exporter": "python",
   "pygments_lexer": "ipython3",
   "version": "3.10.16"
  }
 },
 "nbformat": 4,
 "nbformat_minor": 2
}
