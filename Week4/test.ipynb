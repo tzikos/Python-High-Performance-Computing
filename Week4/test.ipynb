{
 "cells": [
  {
   "cell_type": "code",
   "execution_count": 1,
   "metadata": {},
   "outputs": [],
   "source": [
    "import numpy as np"
   ]
  },
  {
   "cell_type": "code",
   "execution_count": 4,
   "metadata": {},
   "outputs": [],
   "source": [
    "x = np.array([1,2,3])\n",
    "y = np.array([4,5,6])"
   ]
  },
  {
   "cell_type": "code",
   "execution_count": 21,
   "metadata": {},
   "outputs": [],
   "source": [
    "outer_product = [[x[i] * y[j] for j in range(len(y))] for i in range(len(x))]"
   ]
  },
  {
   "cell_type": "code",
   "execution_count": 16,
   "metadata": {},
   "outputs": [
    {
     "data": {
      "text/plain": [
       "(3, 1)"
      ]
     },
     "execution_count": 16,
     "metadata": {},
     "output_type": "execute_result"
    }
   ],
   "source": [
    "x[:,None].shape"
   ]
  },
  {
   "cell_type": "code",
   "execution_count": 17,
   "metadata": {},
   "outputs": [
    {
     "data": {
      "text/plain": [
       "(1, 3)"
      ]
     },
     "execution_count": 17,
     "metadata": {},
     "output_type": "execute_result"
    }
   ],
   "source": [
    "y[None,:].shape"
   ]
  },
  {
   "cell_type": "code",
   "execution_count": 20,
   "metadata": {},
   "outputs": [
    {
     "data": {
      "text/plain": [
       "array([[3, 4, 5],\n",
       "       [2, 3, 4],\n",
       "       [1, 2, 3]])"
      ]
     },
     "execution_count": 20,
     "metadata": {},
     "output_type": "execute_result"
    }
   ],
   "source": [
    "np.abs(x[:,None] - y[None,:])"
   ]
  },
  {
   "cell_type": "code",
   "execution_count": 5,
   "metadata": {},
   "outputs": [],
   "source": [
    "x = np.random.rand(3,3)\n",
    "y = np.random.rand(3,3)"
   ]
  },
  {
   "cell_type": "code",
   "execution_count": 7,
   "metadata": {},
   "outputs": [
    {
     "data": {
      "text/plain": [
       "array([[[0.63010128, 0.5633438 , 0.0581071 ],\n",
       "        [0.47736747, 0.33988543, 0.16356752],\n",
       "        [0.10327028, 0.3096291 , 0.15765368]],\n",
       "\n",
       "       [[0.57136512, 0.0279391 , 0.44146365],\n",
       "        [0.41863132, 0.87529013, 0.33600324],\n",
       "        [0.04453413, 0.2257756 , 0.34191708]],\n",
       "\n",
       "       [[0.717707  , 0.24001128, 0.35185218],\n",
       "        [0.56497319, 0.66321795, 0.45731259],\n",
       "        [0.190876  , 0.01370341, 0.45139875]]])"
      ]
     },
     "execution_count": 7,
     "metadata": {},
     "output_type": "execute_result"
    }
   ],
   "source": [
    "vec1 = x[:, None]\n",
    "vec2 = y[None, :]\n",
    "\n",
    "result = np.abs(vec2-vec1)\n",
    "result"
   ]
  },
  {
   "cell_type": "code",
   "execution_count": 8,
   "metadata": {},
   "outputs": [],
   "source": [
    "data = np.loadtxt('/dtu/projects/02613_2025/data/locations/locations_100.csv', delimiter=',', skiprows=1, usecols=(1, 2))"
   ]
  },
  {
   "cell_type": "code",
   "execution_count": 50,
   "metadata": {},
   "outputs": [],
   "source": [
    "p1, p2 = np.radians(data), np.radians(data)"
   ]
  },
  {
   "cell_type": "code",
   "execution_count": 41,
   "metadata": {},
   "outputs": [],
   "source": [
    "D = np.empty((len(p1), len(p2)))\n",
    "for i in range(len(p1)):\n",
    "    for j in range(len(p2)):\n",
    "        dsin2 = np.sin(0.5 * (p1[i] - p2[j])) ** 2\n",
    "        cosprod = np.cos(p1[i, 0]) * np.cos(p2[j, 0])\n",
    "        a = dsin2[0] + cosprod * dsin2[1]\n",
    "        D[i, j] = 2 * np.arctan2(np.sqrt(a), np.sqrt(1 - a))\n",
    "\n",
    "D *= 6371  # Earth radius in km"
   ]
  },
  {
   "cell_type": "code",
   "execution_count": 42,
   "metadata": {},
   "outputs": [
    {
     "data": {
      "text/plain": [
       "(99, 99)"
      ]
     },
     "execution_count": 42,
     "metadata": {},
     "output_type": "execute_result"
    }
   ],
   "source": [
    "D.shape"
   ]
  },
  {
   "cell_type": "code",
   "execution_count": 40,
   "metadata": {},
   "outputs": [
    {
     "data": {
      "text/plain": [
       "array([0.97854793, 1.11090207])"
      ]
     },
     "execution_count": 40,
     "metadata": {},
     "output_type": "execute_result"
    }
   ],
   "source": [
    "p1[0]"
   ]
  },
  {
   "cell_type": "code",
   "execution_count": 54,
   "metadata": {},
   "outputs": [],
   "source": [
    "p1, p2 = np.radians(data), np.radians(data)"
   ]
  },
  {
   "cell_type": "code",
   "execution_count": 55,
   "metadata": {},
   "outputs": [],
   "source": [
    "# Extract latitude and longitude\n",
    "lat1, lon1 = p1[:, 0], p1[:, 1]\n",
    "lat2, lon2 = p2[:, 0], p2[:, 1]\n",
    "\n",
    "# Compute the difference in longitude\n",
    "dlon = lon1[:, np.newaxis] - lon2\n",
    "\n",
    "# Haversine formula using broadcasting\n",
    "dsin2_lat = np.sin(0.5 * (lat1[:, np.newaxis] - lat2)) ** 2\n",
    "dsin2_lon = np.sin(0.5 * dlon) ** 2\n",
    "cosprod = np.cos(lat1[:, np.newaxis]) * np.cos(lat2)\n",
    "a = dsin2_lat + cosprod * dsin2_lon\n",
    "\n",
    "# Compute the distance\n",
    "D = 2 * np.arctan2(np.sqrt(a), np.sqrt(1 - a))\n",
    "\n",
    "# Multiply by Earth's radius to get the distance in kilometers\n",
    "D *= 6371\n"
   ]
  },
  {
   "cell_type": "code",
   "execution_count": 34,
   "metadata": {},
   "outputs": [
    {
     "data": {
      "text/plain": [
       "array([[ 9.78547933e-01,  1.11090207e+00],\n",
       "       [-9.14261639e-01, -1.31103316e+00],\n",
       "       [ 8.20013860e-01,  4.52912941e-01],\n",
       "       [ 1.00996386e+00,  4.25278560e-01],\n",
       "       [ 7.53691348e-01,  1.90619043e+00],\n",
       "       [ 5.57632696e-01,  7.84525499e-01],\n",
       "       [ 1.22871179e+00, -2.59216301e+00],\n",
       "       [ 2.73725804e-01,  1.85732121e+00],\n",
       "       [ 8.28740506e-01,  1.66969831e-01],\n",
       "       [-8.34849153e-02, -6.59443568e-01],\n",
       "       [ 1.19729587e+00,  5.55014702e-01],\n",
       "       [ 1.07744992e+00,  1.79448936e+00],\n",
       "       [ 8.22631854e-01,  1.23336599e-01],\n",
       "       [ 5.59087136e-01,  1.93324303e+00],\n",
       "       [ 1.02247205e+00,  2.81870674e-01],\n",
       "       [ 1.05039732e+00,  4.32550766e-01],\n",
       "       [ 9.82576003e-01,  1.59254802e-01],\n",
       "       [ 9.11934534e-01,  7.64163324e-01],\n",
       "       [ 3.72046018e-01,  1.22725735e+00],\n",
       "       [ 5.43094103e-01,  4.86370903e-01],\n",
       "       [ 9.09607427e-01, -1.92160751e+00],\n",
       "       [ 7.94124810e-01, -1.28398055e+00],\n",
       "       [ 6.28900307e-01,  2.25816516e+00],\n",
       "       [-4.74115061e-01, -1.90977122e+00],\n",
       "       [ 8.53756891e-01,  1.85121256e+00],\n",
       "       [-7.03658576e-01,  3.06479817e+00],\n",
       "       [ 9.27351609e-01,  2.92342650e-01],\n",
       "       [ 9.49459113e-01,  1.19380521e+00],\n",
       "       [-3.91845809e-01, -7.75706738e-01],\n",
       "       [ 5.43960949e-01,  1.96582251e+00],\n",
       "       [ 8.69755743e-01,  1.88030138e+00],\n",
       "       [ 8.11578102e-01,  2.37073889e-01],\n",
       "       [ 9.11934534e-01, -5.03236595e-02],\n",
       "       [ 8.28065704e-01, -2.13478935e+00],\n",
       "       [ 2.60917944e-01,  1.78569411e+00],\n",
       "       [-4.34296095e-01,  2.55254403e+00],\n",
       "       [ 2.67617151e-01,  1.86197542e+00],\n",
       "       [ 9.25606279e-01, -2.13802833e+00],\n",
       "       [-2.19329708e-01, -7.22275422e-01],\n",
       "       [ 1.04457956e+00,  4.05789051e-01],\n",
       "       [ 6.55662023e-01,  2.21598637e+00],\n",
       "       [ 5.89636799e-01, -1.45542308e+00],\n",
       "       [ 8.05469450e-01,  1.32935910e-01],\n",
       "       [ 8.24846427e-01,  1.97989522e-01],\n",
       "       [ 7.81325729e-01,  1.14377244e+00],\n",
       "       [ 6.53236596e-01, -1.65078302e+00],\n",
       "       [ 5.46892638e-01, -1.61545040e+00],\n",
       "       [ 1.33488599e+00,  2.88851991e-01],\n",
       "       [ 7.95870139e-01,  4.29641883e-01],\n",
       "       [ 9.18915851e-01,  2.01003752e+00],\n",
       "       [ 4.14224809e-01,  1.61821110e+00],\n",
       "       [-5.33159302e-01, -9.33183918e-01],\n",
       "       [ 3.07020869e-01, -1.07898000e+00],\n",
       "       [ 7.02307017e-01,  3.16486226e-01],\n",
       "       [ 7.43064155e-01, -1.48023800e+00],\n",
       "       [-6.12901454e-01,  2.47836754e+00],\n",
       "       [ 9.46841119e-01,  4.28478331e-01],\n",
       "       [-3.13506320e-01, -1.17070117e+00],\n",
       "       [ 6.33510885e-01, -1.34688507e+00],\n",
       "       [ 5.27380321e-01, -1.54461639e+00],\n",
       "       [ 1.05126999e+00, -2.15489985e+00],\n",
       "       [ 9.86983692e-01, -1.07657726e+00],\n",
       "       [ 4.51167612e-01,  2.03098147e+00],\n",
       "       [ 1.21009495e+00,  1.54025306e+00],\n",
       "       [ 6.98713477e-01,  9.24733615e-01],\n",
       "       [ 1.95959076e-01,  2.18214603e+00],\n",
       "       [ 6.60039890e-03,  1.17149170e-01],\n",
       "       [ 3.21709734e-01, -1.15210318e+00],\n",
       "       [ 3.91535528e-01,  1.58999495e+00],\n",
       "       [ 8.33314502e-01, -1.57682887e+00],\n",
       "       [ 6.60607122e-01, -1.34186149e+00],\n",
       "       [-3.47611408e-01,  2.41059058e+00],\n",
       "       [ 6.91305020e-01, -1.93304762e+00],\n",
       "       [-2.87397549e-01,  2.58076019e+00],\n",
       "       [ 1.05691904e+00, -2.54390465e+00],\n",
       "       [ 1.91113553e-01,  1.36281126e+00],\n",
       "       [ 8.47227150e-01, -1.91575001e+00],\n",
       "       [ 7.11221670e-01,  7.65326877e-01],\n",
       "       [ 5.45706278e-01,  7.90052374e-01],\n",
       "       [-8.52302446e-02,  5.17199234e-01],\n",
       "       [ 1.01839962e+00,  7.57182007e-01],\n",
       "       [-5.61414242e-01,  4.47095176e-01],\n",
       "       [ 8.90505766e-01,  1.24733348e+00],\n",
       "       [ 6.27218973e-01, -1.35345048e+00],\n",
       "       [ 1.10799319e+00,  1.89950000e-01],\n",
       "       [ 7.81136593e-01, -1.64202513e+00],\n",
       "       [ 9.78838822e-01,  1.76860030e-01],\n",
       "       [ 3.43602638e-01, -1.39421768e+00],\n",
       "       [ 7.98779020e-01,  1.85499411e+00],\n",
       "       [ 1.08572569e+00, -2.32784743e+00],\n",
       "       [-3.49414916e-01,  2.58675248e+00],\n",
       "       [-2.03621630e-03, -1.16878882e+00],\n",
       "       [ 7.94706585e-01, -1.36601103e+00],\n",
       "       [-7.45546478e-01,  2.98422213e+00],\n",
       "       [ 7.00236742e-01, -1.33158953e+00],\n",
       "       [-3.15322817e-01,  5.78867534e-01],\n",
       "       [ 5.73921854e-01, -1.60773622e+00],\n",
       "       [ 1.30405668e+00, -1.65752949e+00],\n",
       "       [-6.03593032e-01,  2.03069058e+00]])"
      ]
     },
     "execution_count": 34,
     "metadata": {},
     "output_type": "execute_result"
    }
   ],
   "source": [
    "p1"
   ]
  },
  {
   "cell_type": "code",
   "execution_count": null,
   "metadata": {},
   "outputs": [
    {
     "data": {
      "text/plain": [
       "array([[0., 0.],\n",
       "       [0., 0.],\n",
       "       [0., 0.],\n",
       "       [0., 0.],\n",
       "       [0., 0.],\n",
       "       [0., 0.],\n",
       "       [0., 0.],\n",
       "       [0., 0.],\n",
       "       [0., 0.],\n",
       "       [0., 0.],\n",
       "       [0., 0.],\n",
       "       [0., 0.],\n",
       "       [0., 0.],\n",
       "       [0., 0.],\n",
       "       [0., 0.],\n",
       "       [0., 0.],\n",
       "       [0., 0.],\n",
       "       [0., 0.],\n",
       "       [0., 0.],\n",
       "       [0., 0.],\n",
       "       [0., 0.],\n",
       "       [0., 0.],\n",
       "       [0., 0.],\n",
       "       [0., 0.],\n",
       "       [0., 0.],\n",
       "       [0., 0.],\n",
       "       [0., 0.],\n",
       "       [0., 0.],\n",
       "       [0., 0.],\n",
       "       [0., 0.],\n",
       "       [0., 0.],\n",
       "       [0., 0.],\n",
       "       [0., 0.],\n",
       "       [0., 0.],\n",
       "       [0., 0.],\n",
       "       [0., 0.],\n",
       "       [0., 0.],\n",
       "       [0., 0.],\n",
       "       [0., 0.],\n",
       "       [0., 0.],\n",
       "       [0., 0.],\n",
       "       [0., 0.],\n",
       "       [0., 0.],\n",
       "       [0., 0.],\n",
       "       [0., 0.],\n",
       "       [0., 0.],\n",
       "       [0., 0.],\n",
       "       [0., 0.],\n",
       "       [0., 0.],\n",
       "       [0., 0.],\n",
       "       [0., 0.],\n",
       "       [0., 0.],\n",
       "       [0., 0.],\n",
       "       [0., 0.],\n",
       "       [0., 0.],\n",
       "       [0., 0.],\n",
       "       [0., 0.],\n",
       "       [0., 0.],\n",
       "       [0., 0.],\n",
       "       [0., 0.],\n",
       "       [0., 0.],\n",
       "       [0., 0.],\n",
       "       [0., 0.],\n",
       "       [0., 0.],\n",
       "       [0., 0.],\n",
       "       [0., 0.],\n",
       "       [0., 0.],\n",
       "       [0., 0.],\n",
       "       [0., 0.],\n",
       "       [0., 0.],\n",
       "       [0., 0.],\n",
       "       [0., 0.],\n",
       "       [0., 0.],\n",
       "       [0., 0.],\n",
       "       [0., 0.],\n",
       "       [0., 0.],\n",
       "       [0., 0.],\n",
       "       [0., 0.],\n",
       "       [0., 0.],\n",
       "       [0., 0.],\n",
       "       [0., 0.],\n",
       "       [0., 0.],\n",
       "       [0., 0.],\n",
       "       [0., 0.],\n",
       "       [0., 0.],\n",
       "       [0., 0.],\n",
       "       [0., 0.],\n",
       "       [0., 0.],\n",
       "       [0., 0.],\n",
       "       [0., 0.],\n",
       "       [0., 0.],\n",
       "       [0., 0.],\n",
       "       [0., 0.],\n",
       "       [0., 0.],\n",
       "       [0., 0.],\n",
       "       [0., 0.],\n",
       "       [0., 0.],\n",
       "       [0., 0.],\n",
       "       [0., 0.]])"
      ]
     },
     "execution_count": 21,
     "metadata": {},
     "output_type": "execute_result"
    }
   ],
   "source": []
  },
  {
   "cell_type": "code",
   "execution_count": 17,
   "metadata": {},
   "outputs": [
    {
     "data": {
      "text/plain": [
       "0.6778253814511775"
      ]
     },
     "execution_count": 17,
     "metadata": {},
     "output_type": "execute_result"
    }
   ],
   "source": [
    "cosprod"
   ]
  },
  {
   "cell_type": "code",
   "execution_count": 22,
   "metadata": {},
   "outputs": [
    {
     "data": {
      "text/plain": [
       "[[4, 5, 6], [8, 10, 12]]"
      ]
     },
     "execution_count": 22,
     "metadata": {},
     "output_type": "execute_result"
    }
   ],
   "source": [
    "outer_product"
   ]
  },
  {
   "cell_type": "code",
   "execution_count": 2,
   "metadata": {},
   "outputs": [
    {
     "name": "stdout",
     "output_type": "stream",
     "text": [
      "[[3 4]\n",
      " [2 3]\n",
      " [1 2]]\n"
     ]
    }
   ],
   "source": [
    "import numpy as np\n",
    "\n",
    "def distmat_1d(x, y):\n",
    "    x = np.array(x)[:, np.newaxis]  # Reshape x to (m, 1)\n",
    "    y = np.array(y)[np.newaxis, :]  # Reshape y to (1, n)\n",
    "    return abs(x - y)  # Compute absolute differences\n",
    "\n",
    "# Example usage\n",
    "x = [1, 2, 3]\n",
    "y = [4, 5]\n",
    "distance_matrix = distmat_1d(x, y)\n",
    "print(distance_matrix)"
   ]
  }
 ],
 "metadata": {
  "kernelspec": {
   "display_name": "Python 3",
   "language": "python",
   "name": "python3"
  },
  "language_info": {
   "codemirror_mode": {
    "name": "ipython",
    "version": 3
   },
   "file_extension": ".py",
   "mimetype": "text/x-python",
   "name": "python",
   "nbconvert_exporter": "python",
   "pygments_lexer": "ipython3",
   "version": "3.11.5"
  }
 },
 "nbformat": 4,
 "nbformat_minor": 2
}
