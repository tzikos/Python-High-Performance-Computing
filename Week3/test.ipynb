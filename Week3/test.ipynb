{
 "cells": [
  {
   "cell_type": "code",
   "execution_count": 2,
   "metadata": {},
   "outputs": [],
   "source": [
    "import numpy as np\n",
    "import time\n",
    "\n",
    "# Create a large NumPy array\n",
    "N = 1000\n",
    "arr = np.random.rand(N, N)  # Default is row-major (C-order)\n",
    "\n",
    "# Row-first access (efficient)\n",
    "def row_first():\n",
    "    total = 0.0\n",
    "    start = time.perf_counter()\n",
    "    for row in arr:\n",
    "        total += np.sum(row)\n",
    "    end = time.perf_counter()\n",
    "    print(f\"Row-first execution time: {end - start:.6f} seconds\")\n",
    "    return total\n",
    "\n",
    "# Column-first access (inefficient due to strided access)\n",
    "def column_first():\n",
    "    total = 0.0\n",
    "    start = time.perf_counter()\n",
    "    for col in arr.T:  # Transposing makes columns contiguous\n",
    "        total += np.sum(col)\n",
    "    end = time.perf_counter()\n",
    "    print(f\"Column-first execution time: {end - start:.6f} seconds\")\n",
    "    return total"
   ]
  },
  {
   "cell_type": "code",
   "execution_count": 3,
   "metadata": {},
   "outputs": [
    {
     "name": "stdout",
     "output_type": "stream",
     "text": [
      "Row-first execution time: 0.005685 seconds\n",
      "Column-first execution time: 0.004993 seconds\n"
     ]
    },
    {
     "data": {
      "text/plain": [
       "500587.86522938486"
      ]
     },
     "execution_count": 3,
     "metadata": {},
     "output_type": "execute_result"
    }
   ],
   "source": [
    "\n",
    "# Run both functions\n",
    "row_first()\n",
    "column_first()"
   ]
  },
  {
   "cell_type": "code",
   "execution_count": 6,
   "metadata": {},
   "outputs": [
    {
     "name": "stdout",
     "output_type": "stream",
     "text": [
      "Row-first (timeit, avg over 10 runs): 0.109918 sec\n",
      "Column-first (timeit, avg over 10 runs): 0.410981 sec\n"
     ]
    }
   ],
   "source": [
    "import numpy as np\n",
    "import timeit\n",
    "\n",
    "# Create a large NumPy array (C-order by default)\n",
    "N = 10000\n",
    "arr = np.random.rand(N, N)\n",
    "\n",
    "# Row-first iteration (efficient)\n",
    "def row_first():\n",
    "    total = 0.0\n",
    "    for row in arr:\n",
    "        total += np.sum(row)\n",
    "    return total\n",
    "\n",
    "# Column-first iteration (inefficient due to strided access)\n",
    "def column_first():\n",
    "    total = 0.0\n",
    "    for col in arr.T:  # Transposing makes columns contiguous\n",
    "        total += np.sum(col)\n",
    "    return total\n",
    "\n",
    "# Measure execution time using timeit (10 runs for better accuracy)\n",
    "row_time = timeit.timeit(row_first, number=10)\n",
    "col_time = timeit.timeit(column_first, number=10)\n",
    "\n",
    "print(f\"Row-first (timeit, avg over 10 runs): {row_time / 10:.6f} sec\")\n",
    "print(f\"Column-first (timeit, avg over 10 runs): {col_time / 10:.6f} sec\")"
   ]
  }
 ],
 "metadata": {
  "kernelspec": {
   "display_name": "Python 3",
   "language": "python",
   "name": "python3"
  },
  "language_info": {
   "codemirror_mode": {
    "name": "ipython",
    "version": 3
   },
   "file_extension": ".py",
   "mimetype": "text/x-python",
   "name": "python",
   "nbconvert_exporter": "python",
   "pygments_lexer": "ipython3",
   "version": "3.11.5"
  }
 },
 "nbformat": 4,
 "nbformat_minor": 2
}
